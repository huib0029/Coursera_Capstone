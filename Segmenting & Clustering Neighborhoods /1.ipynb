{
    "cells": [
        {
            "metadata": {
                "collapsed": true
            },
            "cell_type": "markdown",
            "source": "## This notebook will be used for the Segmenting and Clustering Neighborhoods in Toronto assignment in the Coursera Capstone project"
        },
        {
            "metadata": {},
            "cell_type": "markdown",
            "source": "Version 1\n\n*This version will <strong>ONLY</strong> scrap the Toronto postal data from Wikipedia, as seen in the first four questions of the assignment "
        },
        {
            "metadata": {},
            "cell_type": "code",
            "source": "import pandas as pd # data analysis library\nimport numpy as np # library for handeling data in a vectorized manner\nimport requests # for handeling API requests\nfrom bs4 import BeautifulSoup # for scraping HTML content\n\nprint('Libraries are imported')",
            "execution_count": 2,
            "outputs": [
                {
                    "output_type": "stream",
                    "text": "Libraries are imported\n",
                    "name": "stdout"
                }
            ]
        },
        {
            "metadata": {},
            "cell_type": "code",
            "source": "# setup URL and request type\nURL = \"https://en.wikipedia.org/wiki/List_of_postal_codes_of_Canada:_M\"\nr = requests.get(URL)\n\n# setup scraper\nscraper = BeautifulSoup(r.content, 'html.parser')\nhtml_table = scraper.find('div', attrs = {'id':'container'})\n\nprint('Page is scrapped')",
            "execution_count": 13,
            "outputs": [
                {
                    "output_type": "stream",
                    "text": "Page is scrapped\n",
                    "name": "stdout"
                }
            ]
        },
        {
            "metadata": {},
            "cell_type": "code",
            "source": "# collecting data from scrapped page\ntorontoPostalCodes = [];\nboroughs= [];\nneighborhoods = [];\ncolumnNumber = 1;\npassValidation = False\n\nfor row in scraper.find_all('td'):\n    for cell in row:\n        if cell.string and cell.string[0].isalpha() and len(cell.string) > 2:\n            passValidation = False\n            if columnNumber == 1:\n                if passValidation == False and cell.string[1].isdigit():\n                    torontoPostalCodes.append(cell.string);   \n                    columnNumber = 2\n                else:\n                    continue\n            elif columnNumber == 2 :\n                if cell.string == 'Not assigned':\n                    passValidation = True\n                    del torontoPostalCodes[-1]\n                    columnNumber = 1\n                    continue\n                else:\n                    boroughs.append(cell.string);      \n                    columnNumber = 3\n            elif columnNumber == 3 :\n                if cell.string == 'Not assigned\\n':\n                    neighborhoods.append(boroughs[-1])\n                else:\n                    neighborhoods.append(cell.string); \n                columnNumber = 1\n                \nprint('Data is collected')",
            "execution_count": 14,
            "outputs": [
                {
                    "output_type": "stream",
                    "text": "Data is collected\n",
                    "name": "stdout"
                }
            ]
        },
        {
            "metadata": {},
            "cell_type": "code",
            "source": "# setup panda datagrame\n\n# define the dataframe columns\ncolumn_names = ['PostalCode', 'Borough', 'Neighborhood'] \n\n# instantiate the dataframe\nneighbors = pd.DataFrame(columns=column_names)\n\nprint('Dataframe is initialized')",
            "execution_count": 17,
            "outputs": [
                {
                    "output_type": "stream",
                    "text": "Dataframe is initialized\n",
                    "name": "stdout"
                }
            ]
        },
        {
            "metadata": {},
            "cell_type": "code",
            "source": "# fill dataframe with data from scraper\nfor data in range(len(neighborhoods)):\n    code = torontoPostalCodes[data]\n    borough = boroughs[data]\n    neighborhood_name = neighborhoods[data]\n\n    neighbors = neighbors.append({ 'PostalCode': code,\n                                   'Borough': borough,\n                                   'Neighborhood': neighborhood_name}, ignore_index=True)\n    \nprint('Dataframe is filled with data')",
            "execution_count": 18,
            "outputs": [
                {
                    "output_type": "stream",
                    "text": "Dataframe is filled with data\n",
                    "name": "stdout"
                }
            ]
        },
        {
            "metadata": {},
            "cell_type": "code",
            "source": "# display first five neighbors\nneighbors.head()",
            "execution_count": 20,
            "outputs": [
                {
                    "output_type": "execute_result",
                    "execution_count": 20,
                    "data": {
                        "text/plain": "  PostalCode           Borough      Neighborhood\n0        M3A        North York         Parkwoods\n1        M4A        North York  Victoria Village\n2        M5A  Downtown Toronto      Harbourfront\n3        M6A        North York  Lawrence Heights\n4        M6A        North York    Lawrence Manor",
                        "text/html": "<div>\n<style scoped>\n    .dataframe tbody tr th:only-of-type {\n        vertical-align: middle;\n    }\n\n    .dataframe tbody tr th {\n        vertical-align: top;\n    }\n\n    .dataframe thead th {\n        text-align: right;\n    }\n</style>\n<table border=\"1\" class=\"dataframe\">\n  <thead>\n    <tr style=\"text-align: right;\">\n      <th></th>\n      <th>PostalCode</th>\n      <th>Borough</th>\n      <th>Neighborhood</th>\n    </tr>\n  </thead>\n  <tbody>\n    <tr>\n      <th>0</th>\n      <td>M3A</td>\n      <td>North York</td>\n      <td>Parkwoods</td>\n    </tr>\n    <tr>\n      <th>1</th>\n      <td>M4A</td>\n      <td>North York</td>\n      <td>Victoria Village</td>\n    </tr>\n    <tr>\n      <th>2</th>\n      <td>M5A</td>\n      <td>Downtown Toronto</td>\n      <td>Harbourfront</td>\n    </tr>\n    <tr>\n      <th>3</th>\n      <td>M6A</td>\n      <td>North York</td>\n      <td>Lawrence Heights</td>\n    </tr>\n    <tr>\n      <th>4</th>\n      <td>M6A</td>\n      <td>North York</td>\n      <td>Lawrence Manor</td>\n    </tr>\n  </tbody>\n</table>\n</div>"
                    },
                    "metadata": {}
                }
            ]
        },
        {
            "metadata": {},
            "cell_type": "code",
            "source": "# display shape of neighbors\nneighbors.shape",
            "execution_count": 21,
            "outputs": [
                {
                    "output_type": "execute_result",
                    "execution_count": 21,
                    "data": {
                        "text/plain": "(210, 3)"
                    },
                    "metadata": {}
                }
            ]
        },
        {
            "metadata": {},
            "cell_type": "code",
            "source": "",
            "execution_count": null,
            "outputs": []
        }
    ],
    "metadata": {
        "kernelspec": {
            "name": "python3",
            "display_name": "Python 3.6",
            "language": "python"
        },
        "language_info": {
            "name": "python",
            "version": "3.6.8",
            "mimetype": "text/x-python",
            "codemirror_mode": {
                "name": "ipython",
                "version": 3
            },
            "pygments_lexer": "ipython3",
            "nbconvert_exporter": "python",
            "file_extension": ".py"
        }
    },
    "nbformat": 4,
    "nbformat_minor": 1
}